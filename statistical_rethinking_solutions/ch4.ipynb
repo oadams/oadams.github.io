{
 "cells": [
  {
   "cell_type": "markdown",
   "id": "cadd076a-37b3-43a2-b51d-2768bd7bdae5",
   "metadata": {},
   "source": [
    "# Statistical Rethinking: Chapter 4 Practice Answers"
   ]
  },
  {
   "cell_type": "markdown",
   "id": "c80e59fb-0008-40e2-95b2-8a2abdcde3fa",
   "metadata": {},
   "source": [
    "### 4E1\n",
    "\n",
    "Line 1: $y_i \\sim \\text{Normal}(\\mu,\\sigma)$"
   ]
  },
  {
   "cell_type": "markdown",
   "id": "aef9aca3-d9cd-4fa3-a93d-f1185f363852",
   "metadata": {},
   "source": [
    "### 4E2\n",
    "\n",
    "Two parameters are in the posterior: $\\mu$ and $\\sigma$."
   ]
  },
  {
   "cell_type": "markdown",
   "id": "9c6030eb-c37d-4782-93b4-c21b9732af25",
   "metadata": {},
   "source": [
    "### 4E3\n",
    "\n",
    "We can express our posterior joint distribution over $\\mu$ and $\\sigma$ as:\n",
    "\n",
    "$$P(\\mu,\\sigma|\\mathbf{y}) = \\frac{\\prod_i\\text{Normal}(y_i|\\mu,\\sigma)\\text{Normal}(\\mu|0,10)\\text{Exponential}(\\sigma|1)}{\\int\\int\\prod_i\\text{Normal}(y_i|\\mu,\\sigma)\\text{Normal}(\\mu|0,10)\\text{Exponential}(\\sigma|1)d\\mu d\\sigma}$$\n",
    "\n"
   ]
  },
  {
   "cell_type": "markdown",
   "id": "1fd03e3e-b360-4844-ac9d-082418295236",
   "metadata": {},
   "source": [
    "### 4E4\n",
    "\n",
    "Line 2: $\\mu_i = \\alpha + \\beta x_i$"
   ]
  },
  {
   "cell_type": "markdown",
   "id": "c00c7ded-ab35-4188-9da0-2d0a3fadd4ed",
   "metadata": {},
   "source": [
    "### 4E5\n",
    "\n",
    "Three parameters are in the posterior: $\\alpha$, $\\beta$, and $\\sigma$."
   ]
  },
  {
   "cell_type": "markdown",
   "id": "7d7b6ff2-82c6-471e-bf29-c333fc658dfd",
   "metadata": {},
   "source": [
    "### 4M1\n",
    "\n"
   ]
  },
  {
   "cell_type": "code",
   "execution_count": 16,
   "id": "f8b0044e-e25b-45b7-b977-29022b592faa",
   "metadata": {},
   "outputs": [],
   "source": [
    "import arviz as az\n",
    "import matplotlib.pyplot as plt\n",
    "import scipy.stats as stats"
   ]
  },
  {
   "cell_type": "code",
   "execution_count": 18,
   "id": "4c54c442-1b78-4998-ad3a-78b522e3944a",
   "metadata": {},
   "outputs": [
    {
     "data": {
      "text/plain": [
       "Text(0.5, 0, 'y')"
      ]
     },
     "execution_count": 18,
     "metadata": {},
     "output_type": "execute_result"
    },
    {
     "data": {
      "image/png": "[encoded data removed]",
      "text/plain": [
       "<Figure size 432x288 with 1 Axes>"
      ]
     },
     "metadata": {
      "needs_background": "light"
     },
     "output_type": "display_data"
    }
   ],
   "source": [
    "n_samples = 1000\n",
    "sample_mu = stats.norm.rvs(loc=0, scale=10, size=n_samples)\n",
    "sample_sigma = stats.expon.rvs(1, size=n_samples)\n",
    "prior_y = stats.norm.rvs(loc=sample_mu, scale=sample_sigma)\n",
    "az.plot_kde(prior_y)\n",
    "plt.xlabel(\"y\")"
   ]
  },
  {
   "cell_type": "markdown",
   "id": "2c5d1b30-1b2d-4b47-8f95-b464b5ed3269",
   "metadata": {},
   "source": [
    "### 4M2"
   ]
  },
  {
   "cell_type": "code",
   "execution_count": null,
   "id": "5faebfa2-73cb-48c4-900d-1a897446ab2d",
   "metadata": {},
   "outputs": [],
   "source": []
  }
 ],
 "metadata": {
  "kernelspec": {
   "display_name": "Python 3 (ipykernel)",
   "language": "python",
   "name": "python3"
  },
  "language_info": {
   "codemirror_mode": {
    "name": "ipython",
    "version": 3
   },
   "file_extension": ".py",
   "mimetype": "text/x-python",
   "name": "python",
   "nbconvert_exporter": "python",
   "pygments_lexer": "ipython3",
   "version": "3.7.4"
  }
 },
 "nbformat": 4,
 "nbformat_minor": 5
}
